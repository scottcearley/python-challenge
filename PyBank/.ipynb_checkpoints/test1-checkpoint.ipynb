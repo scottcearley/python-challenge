{
 "cells": [
  {
   "cell_type": "code",
   "execution_count": 6,
   "id": "bd6a1609-ad27-4b4a-bc99-406cc5f6e9bb",
   "metadata": {},
   "outputs": [
    {
     "name": "stdout",
     "output_type": "stream",
     "text": [
      "D\n",
      "a\n",
      "t\n",
      "e\n",
      ",\n"
     ]
    }
   ],
   "source": [
    "import csv\n",
    "from pathlib import Path\n",
    "\n",
    "\n",
    "filepath = Path(\"/Users/scottcearley/Desktop/code/ASU FinTech Bootcamp/python-homework/PyBank/Resources/budget_data.csv\")\n",
    "\n",
    "count = 0\n",
    "with open(filepath) as text_File:\n",
    "    reader = csv.DictReader(text_File)\n",
    "    #print(content_file)\n",
    "    \n",
    "    for row in reader:\n",
    "        count += 1\n",
    "        \n",
    "        if count > 5:\n",
    "            break\n",
    "        \n",
    "        print(row)\n",
    "    \n",
    "    \n"
   ]
  },
  {
   "cell_type": "code",
   "execution_count": null,
   "id": "e4e29f72-702a-4da5-bbd5-5c89c376d6e3",
   "metadata": {},
   "outputs": [],
   "source": []
  }
 ],
 "metadata": {
  "kernelspec": {
   "display_name": "Python 3 (ipykernel)",
   "language": "python",
   "name": "python3"
  },
  "language_info": {
   "codemirror_mode": {
    "name": "ipython",
    "version": 3
   },
   "file_extension": ".py",
   "mimetype": "text/x-python",
   "name": "python",
   "nbconvert_exporter": "python",
   "pygments_lexer": "ipython3",
   "version": "3.9.12"
  }
 },
 "nbformat": 4,
 "nbformat_minor": 5
}
