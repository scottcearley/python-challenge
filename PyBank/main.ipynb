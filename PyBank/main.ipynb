{
 "cells": [
  {
   "cell_type": "code",
   "execution_count": 1,
   "id": "4f5708d9-0839-4bf2-a3b7-577e4ea05df1",
   "metadata": {},
   "outputs": [
    {
     "name": "stdout",
     "output_type": "stream",
     "text": [
      "Financial Analysis\n",
      "---------------------------------------------\n",
      "Total Months : 86\n",
      "Total:  $38382578\n",
      "Average Change: $-2315.12\n",
      "Greatest Increase In Profits: Feb-2012 ($1926159)\n",
      "Greatest Decrease In Losses: Sep-2013 ($-2196167)\n"
     ]
    }
   ],
   "source": [
    "import csv\n",
    "from pathlib import Path\n",
    "\n",
    "\n",
    "filepath = Path(\"/Users/scottcearley/Desktop/code/ASU FinTech Bootcamp/python-homework/PyBank/Resources/budget_data.csv\")\n",
    "\n",
    "count = 0\n",
    "current_month = 0\n",
    "pnl_date = ''\n",
    "total_amount = 0\n",
    "change = 0\n",
    "last_month = 0\n",
    "greatest_loss = 0\n",
    "greatest_gain = 0\n",
    "greatest_loss_date = ''\n",
    "greatest_gain_date = ''\n",
    "total_change = 0\n",
    "write_file = 'PyBank.txt'\n",
    "\n",
    "with open(filepath, \"r\") as text_File, open(write_file, 'w') as new_file:\n",
    "    reader = csv.DictReader(text_File)\n",
    "    writer = csv.writer(new_file, delimiter = ',')\n",
    "    #write column names for the export file\n",
    "    writer.writerow(('Date', 'Profit/Losses'))\n",
    "   \n",
    "\n",
    "  \n",
    "    for row in reader:\n",
    "        count += 1\n",
    "        \n",
    "        #if count > 5:\n",
    "           # break\n",
    "        \n",
    "        \n",
    "        #print(row['Date'], row['Profit/Losses'])\n",
    "        pnl_date = row['Date']\n",
    "        current_month = int(row['Profit/Losses'])\n",
    "        #writing row for export file\n",
    "        writer.writerow((pnl_date, current_month))\n",
    "        \n",
    "        #adding current Profit/Loss to total amount\n",
    "        total_amount += current_month \n",
    "        \n",
    "        #get difference between last month and this month\n",
    "        #no difference when its the first month\n",
    "        if count > 1:\n",
    "            change = current_month - last_month\n",
    "        #assign values to loss and gain\n",
    "            if change == 0:\n",
    "                greatest_loss = change\n",
    "                greatest_gain = change\n",
    "                greatest_loss_date = pnl_date\n",
    "                greatest_gain_date = pnl_date\n",
    "        #if diff is a loss, check to see if it is lower then previous greatest dip\n",
    "            elif change < greatest_loss:\n",
    "                greatest_loss = change\n",
    "                greatest_loss_date = pnl_date\n",
    "        #check if diff is greater then highest gain so far    \n",
    "            if change > greatest_gain:\n",
    "                greatest_gain = change\n",
    "                greatest_gain_date = pnl_date\n",
    "          \n",
    "        #adding change between current and last month to total change\n",
    "        total_change += change\n",
    "       \n",
    "        #now that is finished, set this month to last month\n",
    "        last_month = current_month\n",
    "        \n",
    "        \n",
    "\n",
    "#capture average of the profit/losses\n",
    "average = round(total_change / (count-1),2)\n",
    "\n",
    "\n",
    "print(f\"Financial Analysis\")\n",
    "print(f\"---------------------------------------------\")\n",
    "print(f'Total Months : {count}')\n",
    "print(f'Total:  ${total_amount}')\n",
    "print(f\"Average Change: ${average}\")\n",
    "print(f'Greatest Increase In Profits: {greatest_gain_date} (${greatest_gain})')\n",
    "print(f'Greatest Decrease In Losses: {greatest_loss_date} (${greatest_loss})')\n",
    "\n",
    "    "
   ]
  }
 ],
 "metadata": {
  "kernelspec": {
   "display_name": "Python 3 (ipykernel)",
   "language": "python",
   "name": "python3"
  },
  "language_info": {
   "codemirror_mode": {
    "name": "ipython",
    "version": 3
   },
   "file_extension": ".py",
   "mimetype": "text/x-python",
   "name": "python",
   "nbconvert_exporter": "python",
   "pygments_lexer": "ipython3",
   "version": "3.9.12"
  },
  "vscode": {
   "interpreter": {
    "hash": "b0fa6594d8f4cbf19f97940f81e996739fb7646882a419484c72d19e05852a7e"
   }
  }
 },
 "nbformat": 4,
 "nbformat_minor": 5
}
